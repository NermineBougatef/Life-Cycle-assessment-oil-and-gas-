{
 "cells": [
  {
   "cell_type": "code",
   "execution_count": null,
   "id": "9bb9c741-6a0f-44cd-9185-22f334c24130",
   "metadata": {},
   "outputs": [],
   "source": []
  }
 ],
 "metadata": {
  "kernelspec": {
   "display_name": "",
   "name": ""
  },
  "language_info": {
   "name": ""
  }
 },
 "nbformat": 4,
 "nbformat_minor": 5
}
